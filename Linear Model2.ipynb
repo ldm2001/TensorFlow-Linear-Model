{
 "cells": [
  {
   "cell_type": "code",
   "execution_count": 1,
   "id": "0ea46220-1683-4c5f-8c32-9630ce6701b3",
   "metadata": {},
   "outputs": [],
   "source": [
    "import tensorflow as tf\n",
    "import numpy as np"
   ]
  },
  {
   "cell_type": "code",
   "execution_count": 3,
   "id": "984dcdfb-00ab-4883-9cc5-677ea35c87cc",
   "metadata": {},
   "outputs": [],
   "source": [
    "# 가중치와 편향 변수 초기화 \n",
    "W = tf.Variable(tf.random.normal([4, 1], dtype=tf.float64), name=\"weight\")\n",
    "b = tf.Variable(tf.random.normal([1], dtype=tf.float64), name=\"bias\")"
   ]
  },
  {
   "cell_type": "code",
   "execution_count": 5,
   "id": "a8f6ed18-c0fb-4618-a5f6-8bcdca95f5d2",
   "metadata": {},
   "outputs": [],
   "source": [
    "# 가설 설정\n",
    "def hypothesis(X):\n",
    "    return tf.matmul(X, W) + b"
   ]
  },
  {
   "cell_type": "code",
   "execution_count": 7,
   "id": "295e6dd7-2c08-4b72-9221-82f71276f640",
   "metadata": {},
   "outputs": [
    {
     "data": {
      "text/plain": [
       "<tensorflow.python.checkpoint.checkpoint.CheckpointLoadStatus at 0x1838fa51d30>"
      ]
     },
     "execution_count": 7,
     "metadata": {},
     "output_type": "execute_result"
    }
   ],
   "source": [
    "# 체크포인트에서 가중치와 편향 복원\n",
    "ckpt = tf.train.Checkpoint(W=W, b=b)\n",
    "ckpt.restore(\"./saved.ckpt-1\").expect_partial()"
   ]
  },
  {
   "cell_type": "code",
   "execution_count": 9,
   "id": "e8aeab42-b9b7-481c-9cd2-908bff2302db",
   "metadata": {},
   "outputs": [
    {
     "name": "stdin",
     "output_type": "stream",
     "text": [
      "평균 온도:  14.8\n",
      "최저 온도:  8.9\n",
      "최고 온도:  18.3\n",
      "강수량:  0.1\n"
     ]
    }
   ],
   "source": [
    "# 사용자 입력 \n",
    "avg_temp = float(input('평균 온도: '))\n",
    "min_temp = float(input('최저 온도: '))\n",
    "max_temp = float(input('최고 온도: '))\n",
    "rain_fall = float(input('강수량: '))"
   ]
  },
  {
   "cell_type": "code",
   "execution_count": null,
   "id": "bdff9615-9e5e-4966-aac1-22200604d9cd",
   "metadata": {},
   "outputs": [],
   "source": []
  }
 ],
 "metadata": {
  "kernelspec": {
   "display_name": "Python 3 (ipykernel)",
   "language": "python",
   "name": "python3"
  },
  "language_info": {
   "codemirror_mode": {
    "name": "ipython",
    "version": 3
   },
   "file_extension": ".py",
   "mimetype": "text/x-python",
   "name": "python",
   "nbconvert_exporter": "python",
   "pygments_lexer": "ipython3",
   "version": "3.12.4"
  }
 },
 "nbformat": 4,
 "nbformat_minor": 5
}
